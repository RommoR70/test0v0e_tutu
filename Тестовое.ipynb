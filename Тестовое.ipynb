{
 "cells": [
  {
   "cell_type": "code",
   "execution_count": 1,
   "id": "363d7a04",
   "metadata": {
    "ExecuteTime": {
     "end_time": "2024-10-05T13:45:35.605771Z",
     "start_time": "2024-10-05T13:45:33.193946Z"
    }
   },
   "outputs": [],
   "source": [
    "import pandas as pd\n",
    "import matplotlib.pyplot as plt\n",
    "import seaborn as sns\n",
    "import numpy as np\n",
    "import scipy.stats as stats"
   ]
  },
  {
   "cell_type": "markdown",
   "id": "b503277d",
   "metadata": {},
   "source": [
    "# Загрузка датафрейма"
   ]
  },
  {
   "cell_type": "code",
   "execution_count": 2,
   "id": "181ac830",
   "metadata": {
    "ExecuteTime": {
     "end_time": "2024-10-05T13:45:45.591802Z",
     "start_time": "2024-10-05T13:45:35.615485Z"
    }
   },
   "outputs": [
    {
     "data": {
      "text/html": [
       "<div>\n",
       "<style scoped>\n",
       "    .dataframe tbody tr th:only-of-type {\n",
       "        vertical-align: middle;\n",
       "    }\n",
       "\n",
       "    .dataframe tbody tr th {\n",
       "        vertical-align: top;\n",
       "    }\n",
       "\n",
       "    .dataframe thead th {\n",
       "        text-align: right;\n",
       "    }\n",
       "</style>\n",
       "<table border=\"1\" class=\"dataframe\">\n",
       "  <thead>\n",
       "    <tr style=\"text-align: right;\">\n",
       "      <th></th>\n",
       "      <th>order_id</th>\n",
       "      <th>page_id</th>\n",
       "      <th>product</th>\n",
       "      <th>site_version</th>\n",
       "      <th>time</th>\n",
       "      <th>title</th>\n",
       "      <th>user</th>\n",
       "    </tr>\n",
       "  </thead>\n",
       "  <tbody>\n",
       "    <tr>\n",
       "      <th>0</th>\n",
       "      <td>NaN</td>\n",
       "      <td>3.0</td>\n",
       "      <td>company</td>\n",
       "      <td>mobile</td>\n",
       "      <td>2017-02-09 20:24:04</td>\n",
       "      <td>banner_show</td>\n",
       "      <td>user_0</td>\n",
       "    </tr>\n",
       "    <tr>\n",
       "      <th>1</th>\n",
       "      <td>NaN</td>\n",
       "      <td>3699687.0</td>\n",
       "      <td>company</td>\n",
       "      <td>mobile</td>\n",
       "      <td>2017-02-07 10:03:07</td>\n",
       "      <td>banner_show</td>\n",
       "      <td>user_0</td>\n",
       "    </tr>\n",
       "    <tr>\n",
       "      <th>2</th>\n",
       "      <td>NaN</td>\n",
       "      <td>14.0</td>\n",
       "      <td>sneakers</td>\n",
       "      <td>mobile</td>\n",
       "      <td>2017-01-29 13:02:23</td>\n",
       "      <td>banner_show</td>\n",
       "      <td>user_1</td>\n",
       "    </tr>\n",
       "    <tr>\n",
       "      <th>3</th>\n",
       "      <td>NaN</td>\n",
       "      <td>10362176.0</td>\n",
       "      <td>company</td>\n",
       "      <td>mobile</td>\n",
       "      <td>2017-04-12 15:39:19</td>\n",
       "      <td>banner_show</td>\n",
       "      <td>user_1</td>\n",
       "    </tr>\n",
       "    <tr>\n",
       "      <th>4</th>\n",
       "      <td>NaN</td>\n",
       "      <td>14.0</td>\n",
       "      <td>sneakers</td>\n",
       "      <td>mobile</td>\n",
       "      <td>2017-01-29 13:04:42</td>\n",
       "      <td>banner_click</td>\n",
       "      <td>user_1</td>\n",
       "    </tr>\n",
       "    <tr>\n",
       "      <th>5</th>\n",
       "      <td>NaN</td>\n",
       "      <td>18.0</td>\n",
       "      <td>sneakers</td>\n",
       "      <td>desktop</td>\n",
       "      <td>2017-01-11 09:22:12</td>\n",
       "      <td>banner_show</td>\n",
       "      <td>user_2</td>\n",
       "    </tr>\n",
       "    <tr>\n",
       "      <th>6</th>\n",
       "      <td>NaN</td>\n",
       "      <td>18.0</td>\n",
       "      <td>sneakers</td>\n",
       "      <td>desktop</td>\n",
       "      <td>2017-01-11 09:24:43</td>\n",
       "      <td>banner_click</td>\n",
       "      <td>user_2</td>\n",
       "    </tr>\n",
       "    <tr>\n",
       "      <th>7</th>\n",
       "      <td>NaN</td>\n",
       "      <td>26.0</td>\n",
       "      <td>sneakers</td>\n",
       "      <td>desktop</td>\n",
       "      <td>2017-01-09 09:38:51</td>\n",
       "      <td>banner_show</td>\n",
       "      <td>user_3</td>\n",
       "    </tr>\n",
       "    <tr>\n",
       "      <th>8</th>\n",
       "      <td>NaN</td>\n",
       "      <td>2004233.0</td>\n",
       "      <td>sports_nutrition</td>\n",
       "      <td>desktop</td>\n",
       "      <td>2017-01-09 09:12:45</td>\n",
       "      <td>banner_show</td>\n",
       "      <td>user_3</td>\n",
       "    </tr>\n",
       "    <tr>\n",
       "      <th>9</th>\n",
       "      <td>NaN</td>\n",
       "      <td>6323332.0</td>\n",
       "      <td>company</td>\n",
       "      <td>desktop</td>\n",
       "      <td>2017-01-03 08:58:18</td>\n",
       "      <td>banner_show</td>\n",
       "      <td>user_3</td>\n",
       "    </tr>\n",
       "    <tr>\n",
       "      <th>10</th>\n",
       "      <td>NaN</td>\n",
       "      <td>6323332.0</td>\n",
       "      <td>company</td>\n",
       "      <td>desktop</td>\n",
       "      <td>2017-01-03 08:59:15</td>\n",
       "      <td>banner_click</td>\n",
       "      <td>user_3</td>\n",
       "    </tr>\n",
       "    <tr>\n",
       "      <th>11</th>\n",
       "      <td>NaN</td>\n",
       "      <td>33.0</td>\n",
       "      <td>sports_nutrition</td>\n",
       "      <td>mobile</td>\n",
       "      <td>2017-01-14 05:33:39</td>\n",
       "      <td>banner_show</td>\n",
       "      <td>user_4</td>\n",
       "    </tr>\n",
       "    <tr>\n",
       "      <th>12</th>\n",
       "      <td>NaN</td>\n",
       "      <td>34.0</td>\n",
       "      <td>sneakers</td>\n",
       "      <td>mobile</td>\n",
       "      <td>2017-03-02 15:10:16</td>\n",
       "      <td>banner_show</td>\n",
       "      <td>user_5</td>\n",
       "    </tr>\n",
       "    <tr>\n",
       "      <th>13</th>\n",
       "      <td>NaN</td>\n",
       "      <td>35.0</td>\n",
       "      <td>sneakers</td>\n",
       "      <td>desktop</td>\n",
       "      <td>2017-02-10 12:19:30</td>\n",
       "      <td>banner_show</td>\n",
       "      <td>user_6</td>\n",
       "    </tr>\n",
       "    <tr>\n",
       "      <th>14</th>\n",
       "      <td>NaN</td>\n",
       "      <td>43.0</td>\n",
       "      <td>accessories</td>\n",
       "      <td>desktop</td>\n",
       "      <td>2017-02-06 05:21:08</td>\n",
       "      <td>banner_show</td>\n",
       "      <td>user_7</td>\n",
       "    </tr>\n",
       "  </tbody>\n",
       "</table>\n",
       "</div>"
      ],
      "text/plain": [
       "    order_id     page_id           product site_version                 time  \\\n",
       "0        NaN         3.0           company       mobile  2017-02-09 20:24:04   \n",
       "1        NaN   3699687.0           company       mobile  2017-02-07 10:03:07   \n",
       "2        NaN        14.0          sneakers       mobile  2017-01-29 13:02:23   \n",
       "3        NaN  10362176.0           company       mobile  2017-04-12 15:39:19   \n",
       "4        NaN        14.0          sneakers       mobile  2017-01-29 13:04:42   \n",
       "5        NaN        18.0          sneakers      desktop  2017-01-11 09:22:12   \n",
       "6        NaN        18.0          sneakers      desktop  2017-01-11 09:24:43   \n",
       "7        NaN        26.0          sneakers      desktop  2017-01-09 09:38:51   \n",
       "8        NaN   2004233.0  sports_nutrition      desktop  2017-01-09 09:12:45   \n",
       "9        NaN   6323332.0           company      desktop  2017-01-03 08:58:18   \n",
       "10       NaN   6323332.0           company      desktop  2017-01-03 08:59:15   \n",
       "11       NaN        33.0  sports_nutrition       mobile  2017-01-14 05:33:39   \n",
       "12       NaN        34.0          sneakers       mobile  2017-03-02 15:10:16   \n",
       "13       NaN        35.0          sneakers      desktop  2017-02-10 12:19:30   \n",
       "14       NaN        43.0       accessories      desktop  2017-02-06 05:21:08   \n",
       "\n",
       "           title    user  \n",
       "0    banner_show  user_0  \n",
       "1    banner_show  user_0  \n",
       "2    banner_show  user_1  \n",
       "3    banner_show  user_1  \n",
       "4   banner_click  user_1  \n",
       "5    banner_show  user_2  \n",
       "6   banner_click  user_2  \n",
       "7    banner_show  user_3  \n",
       "8    banner_show  user_3  \n",
       "9    banner_show  user_3  \n",
       "10  banner_click  user_3  \n",
       "11   banner_show  user_4  \n",
       "12   banner_show  user_5  \n",
       "13   banner_show  user_6  \n",
       "14   banner_show  user_7  "
      ]
     },
     "execution_count": 2,
     "metadata": {},
     "output_type": "execute_result"
    }
   ],
   "source": [
    "df = pd.read_csv('Downloads/ha_data.csv', sep=';')\n",
    "df.head(15)"
   ]
  },
  {
   "cell_type": "code",
   "execution_count": 3,
   "id": "477acc22",
   "metadata": {
    "ExecuteTime": {
     "end_time": "2024-10-05T13:45:46.622865Z",
     "start_time": "2024-10-05T13:45:45.594410Z"
    }
   },
   "outputs": [
    {
     "data": {
      "text/plain": [
       "order_id        8222504\n",
       "page_id          248722\n",
       "product               0\n",
       "site_version          0\n",
       "time                  0\n",
       "title                 0\n",
       "user                  0\n",
       "dtype: int64"
      ]
     },
     "execution_count": 3,
     "metadata": {},
     "output_type": "execute_result"
    }
   ],
   "source": [
    "# проверка пропусков\n",
    "df.isna().sum()"
   ]
  },
  {
   "cell_type": "code",
   "execution_count": 4,
   "id": "82e3092e",
   "metadata": {
    "ExecuteTime": {
     "end_time": "2024-10-05T13:45:46.634889Z",
     "start_time": "2024-10-05T13:45:46.624355Z"
    },
    "scrolled": true
   },
   "outputs": [
    {
     "name": "stdout",
     "output_type": "stream",
     "text": [
      "<class 'pandas.core.frame.DataFrame'>\n",
      "RangeIndex: 8471226 entries, 0 to 8471225\n",
      "Data columns (total 7 columns):\n",
      " #   Column        Dtype  \n",
      "---  ------        -----  \n",
      " 0   order_id      float64\n",
      " 1   page_id       float64\n",
      " 2   product       object \n",
      " 3   site_version  object \n",
      " 4   time          object \n",
      " 5   title         object \n",
      " 6   user          object \n",
      "dtypes: float64(2), object(5)\n",
      "memory usage: 452.4+ MB\n"
     ]
    }
   ],
   "source": [
    "# пропусков нет, смотрим типы данных\n",
    "df.info()"
   ]
  },
  {
   "cell_type": "code",
   "execution_count": 5,
   "id": "285c049e",
   "metadata": {
    "ExecuteTime": {
     "end_time": "2024-10-05T13:46:15.746741Z",
     "start_time": "2024-10-05T13:45:46.636654Z"
    }
   },
   "outputs": [],
   "source": [
    "# преобразуем время в формат даты\n",
    "df.loc[:, 'time'] = pd.to_datetime(df['time'])"
   ]
  },
  {
   "cell_type": "code",
   "execution_count": 7,
   "id": "97b11139",
   "metadata": {
    "ExecuteTime": {
     "end_time": "2024-10-05T13:46:21.081998Z",
     "start_time": "2024-10-05T13:46:20.613623Z"
    }
   },
   "outputs": [
    {
     "data": {
      "text/html": [
       "<div>\n",
       "<style scoped>\n",
       "    .dataframe tbody tr th:only-of-type {\n",
       "        vertical-align: middle;\n",
       "    }\n",
       "\n",
       "    .dataframe tbody tr th {\n",
       "        vertical-align: top;\n",
       "    }\n",
       "\n",
       "    .dataframe thead th {\n",
       "        text-align: right;\n",
       "    }\n",
       "</style>\n",
       "<table border=\"1\" class=\"dataframe\">\n",
       "  <thead>\n",
       "    <tr style=\"text-align: right;\">\n",
       "      <th></th>\n",
       "      <th>order_id</th>\n",
       "      <th>page_id</th>\n",
       "      <th>product</th>\n",
       "      <th>site_version</th>\n",
       "      <th>time</th>\n",
       "      <th>title</th>\n",
       "      <th>user</th>\n",
       "    </tr>\n",
       "  </thead>\n",
       "  <tbody>\n",
       "    <tr>\n",
       "      <th>2286949</th>\n",
       "      <td>NaN</td>\n",
       "      <td>18873573.0</td>\n",
       "      <td>company</td>\n",
       "      <td>desktop</td>\n",
       "      <td>2017-02-23 21:55:07</td>\n",
       "      <td>banner_show</td>\n",
       "      <td>user_1001115</td>\n",
       "    </tr>\n",
       "    <tr>\n",
       "      <th>2286948</th>\n",
       "      <td>NaN</td>\n",
       "      <td>5256175.0</td>\n",
       "      <td>clothes</td>\n",
       "      <td>desktop</td>\n",
       "      <td>2017-02-25 00:35:31</td>\n",
       "      <td>banner_show</td>\n",
       "      <td>user_1001115</td>\n",
       "    </tr>\n",
       "    <tr>\n",
       "      <th>2286951</th>\n",
       "      <td>NaN</td>\n",
       "      <td>5256175.0</td>\n",
       "      <td>clothes</td>\n",
       "      <td>desktop</td>\n",
       "      <td>2017-02-25 00:37:23</td>\n",
       "      <td>banner_click</td>\n",
       "      <td>user_1001115</td>\n",
       "    </tr>\n",
       "    <tr>\n",
       "      <th>2286950</th>\n",
       "      <td>NaN</td>\n",
       "      <td>18878613.0</td>\n",
       "      <td>accessories</td>\n",
       "      <td>desktop</td>\n",
       "      <td>2017-03-06 11:29:25</td>\n",
       "      <td>banner_show</td>\n",
       "      <td>user_1001115</td>\n",
       "    </tr>\n",
       "    <tr>\n",
       "      <th>2286952</th>\n",
       "      <td>465294.0</td>\n",
       "      <td>NaN</td>\n",
       "      <td>clothes</td>\n",
       "      <td>desktop</td>\n",
       "      <td>2017-03-22 05:14:11</td>\n",
       "      <td>order</td>\n",
       "      <td>user_1001115</td>\n",
       "    </tr>\n",
       "  </tbody>\n",
       "</table>\n",
       "</div>"
      ],
      "text/plain": [
       "         order_id     page_id      product site_version                 time  \\\n",
       "2286949       NaN  18873573.0      company      desktop  2017-02-23 21:55:07   \n",
       "2286948       NaN   5256175.0      clothes      desktop  2017-02-25 00:35:31   \n",
       "2286951       NaN   5256175.0      clothes      desktop  2017-02-25 00:37:23   \n",
       "2286950       NaN  18878613.0  accessories      desktop  2017-03-06 11:29:25   \n",
       "2286952  465294.0         NaN      clothes      desktop  2017-03-22 05:14:11   \n",
       "\n",
       "                title          user  \n",
       "2286949   banner_show  user_1001115  \n",
       "2286948   banner_show  user_1001115  \n",
       "2286951  banner_click  user_1001115  \n",
       "2286950   banner_show  user_1001115  \n",
       "2286952         order  user_1001115  "
      ]
     },
     "execution_count": 7,
     "metadata": {},
     "output_type": "execute_result"
    }
   ],
   "source": [
    "# изучение поведения случайного пользователя\n",
    "df[df.user=='user_1001115'].sort_values('time')"
   ]
  },
  {
   "cell_type": "markdown",
   "id": "75c58939",
   "metadata": {
    "ExecuteTime": {
     "end_time": "2024-10-05T13:47:02.367614Z",
     "start_time": "2024-10-05T13:47:02.364697Z"
    }
   },
   "source": [
    "# Конверсия из показа баннера в клик на баннер"
   ]
  },
  {
   "cell_type": "code",
   "execution_count": 11,
   "id": "aac7219a",
   "metadata": {
    "ExecuteTime": {
     "end_time": "2024-10-05T13:48:09.707547Z",
     "start_time": "2024-10-05T13:48:07.629646Z"
    }
   },
   "outputs": [
    {
     "name": "stdout",
     "output_type": "stream",
     "text": [
      "общая конверсия по категориям в %\n"
     ]
    },
    {
     "data": {
      "text/plain": [
       "product\n",
       "accessories          9.455819\n",
       "clothes             15.180700\n",
       "company              9.164506\n",
       "sneakers            12.566645\n",
       "sports_nutrition     9.885468\n",
       "Name: page_id, dtype: float64"
      ]
     },
     "execution_count": 11,
     "metadata": {},
     "output_type": "execute_result"
    }
   ],
   "source": [
    "print(f'общая конверсия по категориям в %')\n",
    "df[df.title=='banner_click'].groupby(['product']).page_id.count() / \\\n",
    "df[df.title=='banner_show'].groupby(['product']).page_id.count() * 100"
   ]
  },
  {
   "cell_type": "code",
   "execution_count": 14,
   "id": "0776efd4",
   "metadata": {
    "ExecuteTime": {
     "end_time": "2024-10-05T13:50:56.613605Z",
     "start_time": "2024-10-05T13:50:54.504187Z"
    }
   },
   "outputs": [
    {
     "name": "stdout",
     "output_type": "stream",
     "text": [
      "общая конверсия по версиям сайта в %\n"
     ]
    },
    {
     "data": {
      "text/plain": [
       "site_version\n",
       "desktop     5.390370\n",
       "mobile     13.579836\n",
       "Name: page_id, dtype: float64"
      ]
     },
     "execution_count": 14,
     "metadata": {},
     "output_type": "execute_result"
    }
   ],
   "source": [
    "print(f'общая конверсия по версиям сайта в %')\n",
    "df[df.title=='banner_click'].groupby(['site_version']).page_id.count() / \\\n",
    "df[df.title=='banner_show'].groupby(['site_version']).page_id.count() * 100"
   ]
  },
  {
   "cell_type": "code",
   "execution_count": 12,
   "id": "162467be",
   "metadata": {
    "ExecuteTime": {
     "end_time": "2024-10-05T13:48:50.480461Z",
     "start_time": "2024-10-05T13:48:47.858367Z"
    }
   },
   "outputs": [
    {
     "data": {
      "text/html": [
       "<div>\n",
       "<style scoped>\n",
       "    .dataframe tbody tr th:only-of-type {\n",
       "        vertical-align: middle;\n",
       "    }\n",
       "\n",
       "    .dataframe tbody tr th {\n",
       "        vertical-align: top;\n",
       "    }\n",
       "\n",
       "    .dataframe thead tr th {\n",
       "        text-align: left;\n",
       "    }\n",
       "\n",
       "    .dataframe thead tr:last-of-type th {\n",
       "        text-align: right;\n",
       "    }\n",
       "</style>\n",
       "<table border=\"1\" class=\"dataframe\">\n",
       "  <thead>\n",
       "    <tr>\n",
       "      <th></th>\n",
       "      <th colspan=\"5\" halign=\"left\">page_id</th>\n",
       "    </tr>\n",
       "    <tr>\n",
       "      <th>product</th>\n",
       "      <th>accessories</th>\n",
       "      <th>clothes</th>\n",
       "      <th>company</th>\n",
       "      <th>sneakers</th>\n",
       "      <th>sports_nutrition</th>\n",
       "    </tr>\n",
       "    <tr>\n",
       "      <th>site_version</th>\n",
       "      <th></th>\n",
       "      <th></th>\n",
       "      <th></th>\n",
       "      <th></th>\n",
       "      <th></th>\n",
       "    </tr>\n",
       "  </thead>\n",
       "  <tbody>\n",
       "    <tr>\n",
       "      <th>desktop</th>\n",
       "      <td>4.519723</td>\n",
       "      <td>7.841031</td>\n",
       "      <td>5.962621</td>\n",
       "      <td>5.203864</td>\n",
       "      <td>3.321400</td>\n",
       "    </tr>\n",
       "    <tr>\n",
       "      <th>mobile</th>\n",
       "      <td>11.418874</td>\n",
       "      <td>18.145263</td>\n",
       "      <td>10.550440</td>\n",
       "      <td>15.476589</td>\n",
       "      <td>12.500107</td>\n",
       "    </tr>\n",
       "  </tbody>\n",
       "</table>\n",
       "</div>"
      ],
      "text/plain": [
       "                 page_id                                                  \n",
       "product      accessories    clothes    company   sneakers sports_nutrition\n",
       "site_version                                                              \n",
       "desktop         4.519723   7.841031   5.962621   5.203864         3.321400\n",
       "mobile         11.418874  18.145263  10.550440  15.476589        12.500107"
      ]
     },
     "execution_count": 12,
     "metadata": {},
     "output_type": "execute_result"
    }
   ],
   "source": [
    "# конверсия по категориям и версиям сайта\n",
    "conv = df[df.title=='banner_click'].groupby(['product','site_version']).page_id.count() / \\\n",
    "df[df.title=='banner_show'].groupby(['product','site_version']).page_id.count() * 100\n",
    "conv.reset_index().pivot(index='site_version',columns='product')"
   ]
  },
  {
   "cell_type": "code",
   "execution_count": 13,
   "id": "6efd289d",
   "metadata": {
    "ExecuteTime": {
     "end_time": "2024-10-05T13:49:02.330340Z",
     "start_time": "2024-10-05T13:49:02.098750Z"
    }
   },
   "outputs": [
    {
     "data": {
      "image/png": "[encoded data removed]",
      "text/plain": [
       "<Figure size 1000x500 with 2 Axes>"
      ]
     },
     "metadata": {},
     "output_type": "display_data"
    }
   ],
   "source": [
    "# представим на графике\n",
    "plt.figure(figsize=(10,5))\n",
    "sns.heatmap(data=conv.reset_index().pivot(index='site_version',columns='product'),\n",
    "           cmap='viridis',xticklabels=['Аксессуары',\"Одежда\",\"Компания\",\"Обувь\",\"СпортПит\"])\n",
    "plt.xlabel('Категория')\n",
    "plt.ylabel('Версия сайта')\n",
    "plt.title('Конверсия кликов по баннерам (в %)');"
   ]
  },
  {
   "cell_type": "markdown",
   "id": "05b2dc69",
   "metadata": {},
   "source": [
    "Видно, что конверсия баннеров в мобильной версии сайта в целом выше чем на версии для ПК, а также заметно явное лидерство категории Одежда. \\\n",
    "Однако у разных версий сайта разные лидирующие и отстающие категории. Например, Спортивное питание имеет самую низкую конверсию на ПК, но в мобильной версии показывает себя относительно неплохо"
   ]
  },
  {
   "cell_type": "markdown",
   "id": "37f1d18a",
   "metadata": {},
   "source": [
    "# Конверсия из кликов по баннеру в покупку"
   ]
  },
  {
   "cell_type": "code",
   "execution_count": 15,
   "id": "5ddd7fc4",
   "metadata": {
    "ExecuteTime": {
     "end_time": "2024-10-05T13:56:03.663388Z",
     "start_time": "2024-10-05T13:55:36.113196Z"
    }
   },
   "outputs": [],
   "source": [
    "dfSorted = df.sort_values(by=['user','time'])"
   ]
  },
  {
   "cell_type": "code",
   "execution_count": 16,
   "id": "b16c7112",
   "metadata": {
    "ExecuteTime": {
     "end_time": "2024-10-05T13:56:24.455670Z",
     "start_time": "2024-10-05T13:56:03.663388Z"
    },
    "code_folding": [],
    "scrolled": true
   },
   "outputs": [],
   "source": [
    "# списки заказов после кликов по баннерам\n",
    "orderCR = dfSorted[(dfSorted['title']=='order')&\n",
    "                   (dfSorted.groupby('user')['title'].shift(1) == 'banner_click')&\n",
    "                  (dfSorted.groupby('user')['product'].shift(1) == dfSorted['product'])]\n",
    "companyCR = dfSorted[(dfSorted['title']=='order')& \n",
    "                    (dfSorted.groupby('user')['title'].shift(1) == 'banner_click')&\n",
    "                    (dfSorted.groupby('user')['product'].shift(1) == 'company')]"
   ]
  },
  {
   "cell_type": "code",
   "execution_count": 17,
   "id": "b04739ec",
   "metadata": {
    "ExecuteTime": {
     "end_time": "2024-10-05T13:56:56.122415Z",
     "start_time": "2024-10-05T13:56:24.456965Z"
    }
   },
   "outputs": [
    {
     "name": "stderr",
     "output_type": "stream",
     "text": [
      "C:\\Users\\1\\AppData\\Local\\Temp\\ipykernel_22284\\983162118.py:2: SettingWithCopyWarning: \n",
      "A value is trying to be set on a copy of a slice from a DataFrame.\n",
      "Try using .loc[row_indexer,col_indexer] = value instead\n",
      "\n",
      "See the caveats in the documentation: https://pandas.pydata.org/pandas-docs/stable/user_guide/indexing.html#returning-a-view-versus-a-copy\n",
      "  companyCR['timediff'] = (companyCR.loc[:, 'time'] - dfSorted.groupby('user')['time'].shift(1)).dt.days\n",
      "C:\\Users\\1\\AppData\\Local\\Temp\\ipykernel_22284\\983162118.py:3: SettingWithCopyWarning: \n",
      "A value is trying to be set on a copy of a slice from a DataFrame.\n",
      "Try using .loc[row_indexer,col_indexer] = value instead\n",
      "\n",
      "See the caveats in the documentation: https://pandas.pydata.org/pandas-docs/stable/user_guide/indexing.html#returning-a-view-versus-a-copy\n",
      "  orderCR['timediff'] = (orderCR.loc[:, 'time'] - dfSorted.groupby('user')['time'].shift(1)).dt.days\n"
     ]
    }
   ],
   "source": [
    "# подсчет разницы дней между кликом и заказом\n",
    "companyCR['timediff'] = (companyCR.loc[:, 'time'] - dfSorted.groupby('user')['time'].shift(1)).dt.days\n",
    "orderCR['timediff'] = (orderCR.loc[:, 'time'] - dfSorted.groupby('user')['time'].shift(1)).dt.days"
   ]
  },
  {
   "cell_type": "code",
   "execution_count": 53,
   "id": "fddf5b3f",
   "metadata": {
    "ExecuteTime": {
     "end_time": "2024-10-05T14:18:12.062984Z",
     "start_time": "2024-10-05T14:18:12.052590Z"
    }
   },
   "outputs": [
    {
     "data": {
      "text/plain": [
       "count    8476.000000\n",
       "mean       12.433931\n",
       "std         9.943095\n",
       "min         0.000000\n",
       "50%        11.000000\n",
       "75%        19.250000\n",
       "95%        28.000000\n",
       "99%        30.000000\n",
       "max       110.000000\n",
       "Name: timediff, dtype: float64"
      ]
     },
     "execution_count": 53,
     "metadata": {},
     "output_type": "execute_result"
    }
   ],
   "source": [
    "orderCR.timediff.describe(percentiles = [0.75, 0.95, 0.99])"
   ]
  },
  {
   "cell_type": "code",
   "execution_count": 51,
   "id": "551d9f64",
   "metadata": {
    "ExecuteTime": {
     "end_time": "2024-10-05T14:17:53.365325Z",
     "start_time": "2024-10-05T14:17:53.353622Z"
    }
   },
   "outputs": [
    {
     "data": {
      "text/plain": [
       "count    9035.000000\n",
       "mean       12.817266\n",
       "std        10.047900\n",
       "min         0.000000\n",
       "50%        11.000000\n",
       "75%        20.000000\n",
       "95%        28.300000\n",
       "99%        30.000000\n",
       "max       122.000000\n",
       "Name: timediff, dtype: float64"
      ]
     },
     "execution_count": 51,
     "metadata": {},
     "output_type": "execute_result"
    }
   ],
   "source": [
    "companyCR.timediff.describe(percentiles = [0.75, 0.95, 0.99])"
   ]
  },
  {
   "cell_type": "markdown",
   "id": "e79b49fa",
   "metadata": {},
   "source": [
    "Заметим, что половина людей соврешали покупку только после 11 дней после клика на баннер. А 99% покупателей хватило 30 дней на раздумья о покупке. Так как упор в расчетах идет на среднестатистического пользователя сайта, ограничим эти данные 30 днями(99%)"
   ]
  },
  {
   "cell_type": "code",
   "execution_count": 56,
   "id": "bd55b985",
   "metadata": {
    "ExecuteTime": {
     "end_time": "2024-10-05T14:22:23.789689Z",
     "start_time": "2024-10-05T14:22:23.779966Z"
    }
   },
   "outputs": [],
   "source": [
    "orderCR = orderCR[orderCR.timediff <= 30]\n",
    "companyCR = orderCR[orderCR.timediff <= 30]"
   ]
  },
  {
   "cell_type": "markdown",
   "id": "774f0f8d",
   "metadata": {
    "ExecuteTime": {
     "end_time": "2024-10-05T14:25:28.815554Z",
     "start_time": "2024-10-05T14:25:28.810923Z"
    }
   },
   "source": [
    "## Конверсия баннеров компании"
   ]
  },
  {
   "cell_type": "code",
   "execution_count": 90,
   "id": "9bea93a7",
   "metadata": {
    "ExecuteTime": {
     "end_time": "2024-10-05T14:44:45.986683Z",
     "start_time": "2024-10-05T14:44:45.060690Z"
    },
    "scrolled": false
   },
   "outputs": [
    {
     "data": {
      "text/plain": [
       "site_version\n",
       "desktop    10.806633\n",
       "mobile      4.588465\n",
       "dtype: float64"
      ]
     },
     "execution_count": 90,
     "metadata": {},
     "output_type": "execute_result"
    }
   ],
   "source": [
    "# общая конверсия вместе с компанией в %\n",
    "companyCR.groupby('site_version').order_id.count() / \\\n",
    "df[(df['product'] == 'company')&(df['title']=='banner_click')].groupby('site_version').page_id.count() * 100"
   ]
  },
  {
   "cell_type": "code",
   "execution_count": 139,
   "id": "3008f0de",
   "metadata": {
    "ExecuteTime": {
     "end_time": "2024-10-05T15:31:45.912730Z",
     "start_time": "2024-10-05T15:31:45.898890Z"
    }
   },
   "outputs": [
    {
     "data": {
      "text/plain": [
       "site_version  product         \n",
       "desktop       accessories         0.051931\n",
       "              clothes             0.210933\n",
       "              sneakers            0.080452\n",
       "              sports_nutrition    0.022222\n",
       "mobile        accessories         0.100178\n",
       "              clothes             0.281759\n",
       "              sneakers            0.193345\n",
       "              sports_nutrition    0.059180\n",
       "Name: proportion, dtype: float64"
      ]
     },
     "execution_count": 139,
     "metadata": {},
     "output_type": "execute_result"
    }
   ],
   "source": [
    "# Для компании посмотрим относительные значения продаж\n",
    "companyCR[['site_version', 'product']].value_counts(normalize=True).sort_index()"
   ]
  },
  {
   "cell_type": "code",
   "execution_count": 113,
   "id": "0cb4892b",
   "metadata": {
    "ExecuteTime": {
     "end_time": "2024-10-05T14:56:30.516094Z",
     "start_time": "2024-10-05T14:56:30.506896Z"
    }
   },
   "outputs": [
    {
     "data": {
      "text/plain": [
       "product\n",
       "clothes             5.324338\n",
       "sneakers            2.958821\n",
       "accessories         1.643790\n",
       "sports_nutrition    0.879684\n",
       "Name: proportion, dtype: float64"
      ]
     },
     "execution_count": 113,
     "metadata": {},
     "output_type": "execute_result"
    }
   ],
   "source": [
    "# конверсия ПК\n",
    "companyCR['product'].value_counts(normalize=True) * 10.806633"
   ]
  },
  {
   "cell_type": "code",
   "execution_count": 107,
   "id": "f4cb674a",
   "metadata": {
    "ExecuteTime": {
     "end_time": "2024-10-05T14:52:16.701220Z",
     "start_time": "2024-10-05T14:52:16.693382Z"
    }
   },
   "outputs": [
    {
     "data": {
      "text/plain": [
       "product\n",
       "clothes             2.260698\n",
       "sneakers            1.256307\n",
       "accessories         0.697948\n",
       "sports_nutrition    0.373511\n",
       "Name: proportion, dtype: float64"
      ]
     },
     "execution_count": 107,
     "metadata": {},
     "output_type": "execute_result"
    }
   ],
   "source": [
    "# конверсия мобильная \n",
    "companyCR['product'].value_counts(normalize=True) * 4.588465"
   ]
  },
  {
   "cell_type": "code",
   "execution_count": 80,
   "id": "6afb549d",
   "metadata": {
    "ExecuteTime": {
     "end_time": "2024-10-05T14:37:54.809917Z",
     "start_time": "2024-10-05T14:37:54.700391Z"
    },
    "scrolled": true
   },
   "outputs": [
    {
     "data": {
      "image/png": "[encoded data removed]",
      "text/plain": [
       "<Figure size 400x400 with 1 Axes>"
      ]
     },
     "metadata": {},
     "output_type": "display_data"
    }
   ],
   "source": [
    "plt.figure(figsize=(4,4))\n",
    "plt.pie(companyCR['product'].value_counts(normalize=True))\n",
    "plt.legend(companyCR['product'].unique());"
   ]
  },
  {
   "cell_type": "markdown",
   "id": "965c397a",
   "metadata": {},
   "source": [
    "## Конверсия баннеров по категориям"
   ]
  },
  {
   "cell_type": "code",
   "execution_count": 131,
   "id": "fb638001",
   "metadata": {
    "ExecuteTime": {
     "end_time": "2024-10-05T15:19:03.372483Z",
     "start_time": "2024-10-05T15:19:02.292507Z"
    }
   },
   "outputs": [
    {
     "data": {
      "text/plain": [
       "site_version\n",
       "desktop    3.551922\n",
       "mobile     0.893163\n",
       "dtype: float64"
      ]
     },
     "execution_count": 131,
     "metadata": {},
     "output_type": "execute_result"
    }
   ],
   "source": [
    "orderCR.groupby(['site_version']).order_id.count() / \\\n",
    "df[(df['product'] != 'company')&(df['title']=='banner_click')].groupby(['site_version']).page_id.count() * 100"
   ]
  },
  {
   "cell_type": "code",
   "execution_count": 100,
   "id": "3d256316",
   "metadata": {
    "ExecuteTime": {
     "end_time": "2024-10-05T14:48:21.195092Z",
     "start_time": "2024-10-05T14:48:20.122259Z"
    }
   },
   "outputs": [
    {
     "data": {
      "text/plain": [
       "product           site_version\n",
       "accessories       desktop         2.358211\n",
       "                  mobile          0.716088\n",
       "clothes           desktop         5.414722\n",
       "                  mobile          1.262419\n",
       "sneakers          desktop         3.160745\n",
       "                  mobile          1.009443\n",
       "sports_nutrition  desktop         1.348234\n",
       "                  mobile          0.380013\n",
       "dtype: float64"
      ]
     },
     "execution_count": 100,
     "metadata": {},
     "output_type": "execute_result"
    }
   ],
   "source": [
    "orderCR.groupby(['product','site_version']).order_id.count() / \\\n",
    "df[(df['product'] != 'company')&(df['title']=='banner_click')].groupby(['product','site_version']).page_id.count() * 100"
   ]
  },
  {
   "cell_type": "markdown",
   "id": "e818c9eb",
   "metadata": {},
   "source": [
    "# Доля заказов по баннерам от общего числа заказов"
   ]
  },
  {
   "cell_type": "code",
   "execution_count": 119,
   "id": "9b919ecd",
   "metadata": {
    "ExecuteTime": {
     "end_time": "2024-10-05T15:02:10.853638Z",
     "start_time": "2024-10-05T15:02:10.827047Z"
    }
   },
   "outputs": [
    {
     "data": {
      "text/plain": [
       "6.76659081223213"
      ]
     },
     "execution_count": 119,
     "metadata": {},
     "output_type": "execute_result"
    }
   ],
   "source": [
    "pd.concat([orderCR, companyCR]).order_id.count() / df.order_id.count() * 100"
   ]
  },
  {
   "cell_type": "code",
   "execution_count": 125,
   "id": "21b0982f",
   "metadata": {
    "ExecuteTime": {
     "end_time": "2024-10-05T15:03:42.039968Z",
     "start_time": "2024-10-05T15:03:41.549770Z"
    },
    "scrolled": true
   },
   "outputs": [
    {
     "data": {
      "text/plain": [
       "product\n",
       "accessories         5.746223\n",
       "clothes             7.356607\n",
       "company                  NaN\n",
       "sneakers            6.804590\n",
       "sports_nutrition    5.771580\n",
       "Name: order_id, dtype: float64"
      ]
     },
     "execution_count": 125,
     "metadata": {},
     "output_type": "execute_result"
    }
   ],
   "source": [
    "# доля от заказов в категории\n",
    "pd.concat([orderCR, companyCR]).groupby('product').order_id.count() / df.groupby('product').order_id.count() * 100"
   ]
  },
  {
   "cell_type": "code",
   "execution_count": 128,
   "id": "f05f0a04",
   "metadata": {
    "ExecuteTime": {
     "end_time": "2024-10-05T15:06:22.495780Z",
     "start_time": "2024-10-05T15:06:22.085907Z"
    }
   },
   "outputs": [
    {
     "data": {
      "text/plain": [
       "site_version\n",
       "desktop    4.619278\n",
       "mobile     9.241741\n",
       "Name: order_id, dtype: float64"
      ]
     },
     "execution_count": 128,
     "metadata": {},
     "output_type": "execute_result"
    }
   ],
   "source": [
    "# доля от заказов в версии сайта\n",
    "pd.concat([orderCR, companyCR]).groupby('site_version').order_id.count() / df.groupby('site_version').order_id.count() * 100"
   ]
  },
  {
   "cell_type": "code",
   "execution_count": 129,
   "id": "859745c9",
   "metadata": {
    "ExecuteTime": {
     "end_time": "2024-10-05T15:06:52.408878Z",
     "start_time": "2024-10-05T15:06:51.304932Z"
    },
    "scrolled": false
   },
   "outputs": [
    {
     "data": {
      "text/plain": [
       "product           site_version\n",
       "accessories       desktop          3.950997\n",
       "                  mobile           7.516719\n",
       "clothes           desktop          5.300327\n",
       "                  mobile          10.367747\n",
       "company           desktop               NaN\n",
       "                  mobile                NaN\n",
       "sneakers          desktop          4.157838\n",
       "                  mobile           9.256415\n",
       "sports_nutrition  desktop          3.247092\n",
       "                  mobile           8.151240\n",
       "Name: order_id, dtype: float64"
      ]
     },
     "execution_count": 129,
     "metadata": {},
     "output_type": "execute_result"
    }
   ],
   "source": [
    "#  доля заказов в разрезе категория + версия сайта\n",
    "pd.concat([orderCR, companyCR]).groupby(['product','site_version']).order_id.count() / df.groupby(['product','site_version']).order_id.count() * 100"
   ]
  },
  {
   "cell_type": "markdown",
   "id": "7c3304d3",
   "metadata": {},
   "source": [
    "# Выводы"
   ]
  },
  {
   "cell_type": "markdown",
   "id": "dcefb54a",
   "metadata": {
    "ExecuteTime": {
     "end_time": "2024-10-05T15:13:01.199765Z",
     "start_time": "2024-10-05T15:13:01.190654Z"
    }
   },
   "source": [
    "К сожалению, нет данных о суммах заказов, которые позволили бы оценить текущие CPC каждого баннера и сделать более точные выводы с получением цены, за которую мы готовы продать рекламное место\n",
    "\n",
    "Конверсия из показа в клик:\n",
    "На мобильной версии сайта баннеры показывают значительно большую эффективность. Например:\n",
    "Для одежды конверсия составляет 18.15% на мобильной версии против 7.84% на десктопе.\n",
    "Для кроссовок конверсия на мобильных устройствах составляет 15.48% против 5.20% на десктопе.\n",
    "Это говорит о том, что пользователи на мобильных устройствах активнее взаимодействуют с баннерами, независимо от типа продукта.\n",
    "\n",
    "Конверсия из клика в заказ:\n",
    "Важно отметить, что конверсия по баннерам, рекламирующим саму компанию, выше на десктопе (10.81%) по сравнению с мобильной версией (4.59%).\n",
    "Для продуктовых баннеров общая конверсия на десктопе составляет 3.55%, а на мобильных — 0.89%, что говорит о лучшей результативности десктопных баннеров в преобразовании кликов в заказы.\n",
    "\n",
    "Конверсия по продуктам и устройствам:\n",
    "Результаты баннеров компании и баннеров продукции в разрезе товарных групп и устройств примерно равны\n",
    "\n",
    "Доля заказов по баннерам от общего числа заказов:\n",
    "Баннеры на мобильных устройствах генерируют больший процент заказов, особенно для таких категорий, как:\n",
    "Одежда: на мобильной версии 10.37% заказов происходит через баннеры против 5.30% на десктопе.\n",
    "Кроссовки: 9.26% на мобильных устройствах и 4.16% на десктопе.\n",
    "Это подтверждает, что мобильные баннеры стимулируют значительную долю продаж, несмотря на более низкую конверсию из кликов в заказы.\n",
    "\n",
    "Рекомендации:\n",
    "\n",
    "Продажа баннерного места в некоторых категориях:\n",
    "Учитывая, что баннеры на мобильной версии приносят существенный вклад в продажи (особенно в категориях \"одежда\" и \"кроссовки\"), продавать это место для рекламы другого сервиса может привести к потере части дохода. Лучше сохранить баннеры для продуктов с высокой конверсией и долей заказов.\n",
    "На десктопе можно рассмотреть продажу баннерного места для категории \"компания\" или менее эффективных баннеров с низкой долей заказов.\n",
    "Можно продавать рекламное место для менее эффективных баннеров (например, десктопные версии для спортивного питания или \"компании\")\n",
    "Таким образом, лучше удержать высокоэффективные мобильные баннеры, особенно для категорий одежды и кроссовок, а баннерное место на десктопе для менее эффективных категорий можно продавать по модели CPC."
   ]
  }
 ],
 "metadata": {
  "kernelspec": {
   "display_name": "Python 3 (ipykernel)",
   "language": "python",
   "name": "python3"
  },
  "language_info": {
   "codemirror_mode": {
    "name": "ipython",
    "version": 3
   },
   "file_extension": ".py",
   "mimetype": "text/x-python",
   "name": "python",
   "nbconvert_exporter": "python",
   "pygments_lexer": "ipython3",
   "version": "3.11.5"
  },
  "toc": {
   "base_numbering": 1,
   "nav_menu": {},
   "number_sections": true,
   "sideBar": true,
   "skip_h1_title": false,
   "title_cell": "Table of Contents",
   "title_sidebar": "Contents",
   "toc_cell": false,
   "toc_position": {},
   "toc_section_display": true,
   "toc_window_display": false
  }
 },
 "nbformat": 4,
 "nbformat_minor": 5
}
